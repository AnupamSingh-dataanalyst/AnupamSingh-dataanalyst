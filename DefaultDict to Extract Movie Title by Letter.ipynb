{
 "cells": [
  {
   "cell_type": "markdown",
   "metadata": {},
   "source": [
    "## How to use Default Dict to Extract Movie Title by Letters "
   ]
  },
  {
   "cell_type": "code",
   "execution_count": 2,
   "metadata": {},
   "outputs": [
    {
     "name": "stderr",
     "output_type": "stream",
     "text": [
      "C:\\Users\\Admin\\Anaconda3\\lib\\site-packages\\requests\\__init__.py:91: RequestsDependencyWarning: urllib3 (1.26.5) or chardet (3.0.4) doesn't match a supported version!\n",
      "  RequestsDependencyWarning)\n"
     ]
    },
    {
     "name": "stdout",
     "output_type": "stream",
     "text": [
      " set up done\n"
     ]
    }
   ],
   "source": [
    "from collections import defaultdict\n",
    "import pandas as pd\n",
    "import requests\n",
    "from bs4 import BeautifulSoup\n",
    "print(\" set up done\")\n"
   ]
  },
  {
   "cell_type": "code",
   "execution_count": 3,
   "metadata": {},
   "outputs": [
    {
     "name": "stdout",
     "output_type": "stream",
     "text": [
      "200\n"
     ]
    }
   ],
   "source": [
    "wikiurl=\"https://en.wikipedia.org/wiki/List_of_Bollywood_films_of_2020\"\n",
    "table_class=\"wikitable sortable jquery-tablesorter\"\n",
    "response=requests.get(wikiurl)\n",
    "print(response.status_code)"
   ]
  },
  {
   "cell_type": "code",
   "execution_count": 5,
   "metadata": {},
   "outputs": [],
   "source": [
    "#Parse data from the HTML\n",
    "soup = BeautifulSoup(response.text, 'html.parser')\n",
    "indiatable=soup.find('table',{'class':\"wikitable\"})\n"
   ]
  },
  {
   "cell_type": "code",
   "execution_count": 6,
   "metadata": {},
   "outputs": [
    {
     "name": "stdout",
     "output_type": "stream",
     "text": [
      "   Rank                        Title  \\\n",
      "0     1                      Tanhaji   \n",
      "1     2                     Baaghi 3   \n",
      "2     3             Street Dancer 3D   \n",
      "3     4  Shubh Mangal Zyada Saavdhan   \n",
      "4     5                       Malang   \n",
      "\n",
      "                                  Production Company       Distributor  \\\n",
      "0                          Ajay Devgn FFilmsT-Series          AA Films   \n",
      "1  Nadiadwala Grandson EntertainmentFox Star Studios  Fox Star Studios   \n",
      "2                 T-SeriesRemo D'Souza Entertainment          AA Films   \n",
      "3                  T-SeriesColour Yellow Productions          AA Films   \n",
      "4     T-SeriesLuv FilmsNorthern Lights Entertainment    Yash Raj Films   \n",
      "\n",
      "                 Worldwide Gross    Ref.  \n",
      "0  ₹367.65 crore (US$52 million)  [2][3]  \n",
      "1  ₹137.05 crore (US$19 million)  [4][3]  \n",
      "2      ₹97 crore (US$14 million)  [5][3]  \n",
      "3   ₹86.39 crore (US$12 million)  [6][3]  \n",
      "4   ₹84.50 crore (US$12 million)  [7][3]  \n"
     ]
    }
   ],
   "source": [
    "df=pd.read_html(str(indiatable))\n",
    "# convert list to dataframe\n",
    "df=pd.DataFrame(df[0])\n",
    "print(df.head())"
   ]
  },
  {
   "cell_type": "code",
   "execution_count": 7,
   "metadata": {},
   "outputs": [],
   "source": [
    "data = df.drop([\"Rank\", \"Production Company\",\"Distributor\",\"Worldwide Gross\",\"Ref.\"], axis=1)"
   ]
  },
  {
   "cell_type": "code",
   "execution_count": 9,
   "metadata": {},
   "outputs": [
    {
     "data": {
      "text/html": [
       "<div>\n",
       "<style scoped>\n",
       "    .dataframe tbody tr th:only-of-type {\n",
       "        vertical-align: middle;\n",
       "    }\n",
       "\n",
       "    .dataframe tbody tr th {\n",
       "        vertical-align: top;\n",
       "    }\n",
       "\n",
       "    .dataframe thead th {\n",
       "        text-align: right;\n",
       "    }\n",
       "</style>\n",
       "<table border=\"1\" class=\"dataframe\">\n",
       "  <thead>\n",
       "    <tr style=\"text-align: right;\">\n",
       "      <th></th>\n",
       "      <th>Title</th>\n",
       "    </tr>\n",
       "  </thead>\n",
       "  <tbody>\n",
       "    <tr>\n",
       "      <th>0</th>\n",
       "      <td>Tanhaji</td>\n",
       "    </tr>\n",
       "    <tr>\n",
       "      <th>1</th>\n",
       "      <td>Baaghi 3</td>\n",
       "    </tr>\n",
       "    <tr>\n",
       "      <th>2</th>\n",
       "      <td>Street Dancer 3D</td>\n",
       "    </tr>\n",
       "    <tr>\n",
       "      <th>3</th>\n",
       "      <td>Shubh Mangal Zyada Saavdhan</td>\n",
       "    </tr>\n",
       "    <tr>\n",
       "      <th>4</th>\n",
       "      <td>Malang</td>\n",
       "    </tr>\n",
       "    <tr>\n",
       "      <th>5</th>\n",
       "      <td>Chhapaak</td>\n",
       "    </tr>\n",
       "    <tr>\n",
       "      <th>6</th>\n",
       "      <td>Love Aaj Kal</td>\n",
       "    </tr>\n",
       "    <tr>\n",
       "      <th>7</th>\n",
       "      <td>Jawaani Jaaneman</td>\n",
       "    </tr>\n",
       "    <tr>\n",
       "      <th>8</th>\n",
       "      <td>Thappad</td>\n",
       "    </tr>\n",
       "    <tr>\n",
       "      <th>9</th>\n",
       "      <td>Panga</td>\n",
       "    </tr>\n",
       "  </tbody>\n",
       "</table>\n",
       "</div>"
      ],
      "text/plain": [
       "                         Title\n",
       "0                      Tanhaji\n",
       "1                     Baaghi 3\n",
       "2             Street Dancer 3D\n",
       "3  Shubh Mangal Zyada Saavdhan\n",
       "4                       Malang\n",
       "5                     Chhapaak\n",
       "6                 Love Aaj Kal\n",
       "7             Jawaani Jaaneman\n",
       "8                      Thappad\n",
       "9                        Panga"
      ]
     },
     "execution_count": 9,
     "metadata": {},
     "output_type": "execute_result"
    }
   ],
   "source": [
    "data"
   ]
  },
  {
   "cell_type": "code",
   "execution_count": 11,
   "metadata": {},
   "outputs": [],
   "source": [
    "titles = ['Tanhaji', 'Baaghi 3', 'Street Dancer 3D', 'Shubh Mangal Zyada Saavdhan', 'Malang','Chhapaak','Love Aaj Kal','Jawaani Jaaneman','Thappad','Panga']"
   ]
  },
  {
   "cell_type": "code",
   "execution_count": 13,
   "metadata": {},
   "outputs": [],
   "source": [
    "title_by_letter = defaultdict(list)\n",
    "for title in titles:\n",
    "    title_by_letter[title[0]].append(title)"
   ]
  },
  {
   "cell_type": "markdown",
   "metadata": {},
   "source": [
    "## The highest-grossing Bollywood films released in 2020 \n",
    "## by worldwide box office gross revenue\n",
    "\n",
    "### Movie title_by_letter:\n",
    "\n"
   ]
  },
  {
   "cell_type": "code",
   "execution_count": 24,
   "metadata": {},
   "outputs": [
    {
     "data": {
      "text/plain": [
       "defaultdict(list,\n",
       "            {'T': ['Tanhaji', 'Thappad'],\n",
       "             'B': ['Baaghi 3'],\n",
       "             'S': ['Street Dancer 3D', 'Shubh Mangal Zyada Saavdhan'],\n",
       "             'M': ['Malang'],\n",
       "             'C': ['Chhapaak'],\n",
       "             'L': ['Love Aaj Kal'],\n",
       "             'J': ['Jawaani Jaaneman'],\n",
       "             'P': ['Panga']})"
      ]
     },
     "execution_count": 24,
     "metadata": {},
     "output_type": "execute_result"
    }
   ],
   "source": [
    "title_by_letter\n"
   ]
  },
  {
   "cell_type": "code",
   "execution_count": null,
   "metadata": {},
   "outputs": [],
   "source": []
  }
 ],
 "metadata": {
  "kernelspec": {
   "display_name": "Python 3",
   "language": "python",
   "name": "python3"
  },
  "language_info": {
   "codemirror_mode": {
    "name": "ipython",
    "version": 3
   },
   "file_extension": ".py",
   "mimetype": "text/x-python",
   "name": "python",
   "nbconvert_exporter": "python",
   "pygments_lexer": "ipython3",
   "version": "3.7.3"
  }
 },
 "nbformat": 4,
 "nbformat_minor": 2
}
